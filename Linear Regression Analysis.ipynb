{
 "cells": [
  {
   "cell_type": "code",
   "execution_count": 2,
   "metadata": {},
   "outputs": [],
   "source": [
    "import numpy as np\n",
    "import pandas as pd\n",
    "import matplotlib.pyplot as plt\n",
    "import seaborn as sns\n",
    "import scipy.stats as stats\n",
    "\n",
    "import statsmodels.api as sm\n",
    "from sklearn.linear_model import LinearRegression\n",
    "%matplotlib inline"
   ]
  },
  {
   "cell_type": "markdown",
   "metadata": {},
   "source": [
    "### StreetEasy Rentals dataset. \n",
    "Data sample of 5,000 rentals listings in Manhattan, Brooklyn, and Queens, active on StreetEasy in June 2016."
   ]
  },
  {
   "cell_type": "code",
   "execution_count": 3,
   "metadata": {},
   "outputs": [],
   "source": [
    "raw_df = pd.read_csv('/Users/angelika/Desktop/data science prep/streeteasy.csv', index_col=0)\n"
   ]
  },
  {
   "cell_type": "code",
   "execution_count": 4,
   "metadata": {},
   "outputs": [
    {
     "data": {
      "text/html": [
       "<div>\n",
       "<style scoped>\n",
       "    .dataframe tbody tr th:only-of-type {\n",
       "        vertical-align: middle;\n",
       "    }\n",
       "\n",
       "    .dataframe tbody tr th {\n",
       "        vertical-align: top;\n",
       "    }\n",
       "\n",
       "    .dataframe thead th {\n",
       "        text-align: right;\n",
       "    }\n",
       "</style>\n",
       "<table border=\"1\" class=\"dataframe\">\n",
       "  <thead>\n",
       "    <tr style=\"text-align: right;\">\n",
       "      <th>rental_id</th>\n",
       "      <th>1545</th>\n",
       "      <th>2472</th>\n",
       "      <th>10234</th>\n",
       "      <th>2919</th>\n",
       "      <th>2790</th>\n",
       "    </tr>\n",
       "  </thead>\n",
       "  <tbody>\n",
       "    <tr>\n",
       "      <th>building_id</th>\n",
       "      <td>44518357</td>\n",
       "      <td>94441623</td>\n",
       "      <td>87632265</td>\n",
       "      <td>76909719</td>\n",
       "      <td>92953520</td>\n",
       "    </tr>\n",
       "    <tr>\n",
       "      <th>rent</th>\n",
       "      <td>2550</td>\n",
       "      <td>11500</td>\n",
       "      <td>3000</td>\n",
       "      <td>4500</td>\n",
       "      <td>4795</td>\n",
       "    </tr>\n",
       "    <tr>\n",
       "      <th>bedrooms</th>\n",
       "      <td>0</td>\n",
       "      <td>2</td>\n",
       "      <td>3</td>\n",
       "      <td>1</td>\n",
       "      <td>1</td>\n",
       "    </tr>\n",
       "    <tr>\n",
       "      <th>bathrooms</th>\n",
       "      <td>1</td>\n",
       "      <td>2</td>\n",
       "      <td>1</td>\n",
       "      <td>1</td>\n",
       "      <td>1</td>\n",
       "    </tr>\n",
       "    <tr>\n",
       "      <th>size_sqft</th>\n",
       "      <td>480</td>\n",
       "      <td>2000</td>\n",
       "      <td>1000</td>\n",
       "      <td>916</td>\n",
       "      <td>975</td>\n",
       "    </tr>\n",
       "    <tr>\n",
       "      <th>min_to_subway</th>\n",
       "      <td>9</td>\n",
       "      <td>4</td>\n",
       "      <td>4</td>\n",
       "      <td>2</td>\n",
       "      <td>3</td>\n",
       "    </tr>\n",
       "    <tr>\n",
       "      <th>floor</th>\n",
       "      <td>2</td>\n",
       "      <td>1</td>\n",
       "      <td>1</td>\n",
       "      <td>51</td>\n",
       "      <td>8</td>\n",
       "    </tr>\n",
       "    <tr>\n",
       "      <th>building_age_yrs</th>\n",
       "      <td>17</td>\n",
       "      <td>96</td>\n",
       "      <td>106</td>\n",
       "      <td>29</td>\n",
       "      <td>31</td>\n",
       "    </tr>\n",
       "    <tr>\n",
       "      <th>no_fee</th>\n",
       "      <td>1</td>\n",
       "      <td>0</td>\n",
       "      <td>0</td>\n",
       "      <td>0</td>\n",
       "      <td>0</td>\n",
       "    </tr>\n",
       "    <tr>\n",
       "      <th>has_roofdeck</th>\n",
       "      <td>1</td>\n",
       "      <td>0</td>\n",
       "      <td>0</td>\n",
       "      <td>1</td>\n",
       "      <td>0</td>\n",
       "    </tr>\n",
       "    <tr>\n",
       "      <th>has_washer_dryer</th>\n",
       "      <td>0</td>\n",
       "      <td>0</td>\n",
       "      <td>0</td>\n",
       "      <td>0</td>\n",
       "      <td>0</td>\n",
       "    </tr>\n",
       "    <tr>\n",
       "      <th>has_doorman</th>\n",
       "      <td>0</td>\n",
       "      <td>0</td>\n",
       "      <td>0</td>\n",
       "      <td>1</td>\n",
       "      <td>1</td>\n",
       "    </tr>\n",
       "    <tr>\n",
       "      <th>has_elevator</th>\n",
       "      <td>1</td>\n",
       "      <td>0</td>\n",
       "      <td>0</td>\n",
       "      <td>1</td>\n",
       "      <td>1</td>\n",
       "    </tr>\n",
       "    <tr>\n",
       "      <th>has_dishwasher</th>\n",
       "      <td>1</td>\n",
       "      <td>0</td>\n",
       "      <td>0</td>\n",
       "      <td>1</td>\n",
       "      <td>1</td>\n",
       "    </tr>\n",
       "    <tr>\n",
       "      <th>has_patio</th>\n",
       "      <td>0</td>\n",
       "      <td>0</td>\n",
       "      <td>0</td>\n",
       "      <td>0</td>\n",
       "      <td>0</td>\n",
       "    </tr>\n",
       "    <tr>\n",
       "      <th>has_gym</th>\n",
       "      <td>1</td>\n",
       "      <td>0</td>\n",
       "      <td>0</td>\n",
       "      <td>0</td>\n",
       "      <td>1</td>\n",
       "    </tr>\n",
       "    <tr>\n",
       "      <th>neighborhood</th>\n",
       "      <td>Upper East Side</td>\n",
       "      <td>Greenwich Village</td>\n",
       "      <td>Astoria</td>\n",
       "      <td>Midtown</td>\n",
       "      <td>Greenwich Village</td>\n",
       "    </tr>\n",
       "    <tr>\n",
       "      <th>submarket</th>\n",
       "      <td>All Upper East Side</td>\n",
       "      <td>All Downtown</td>\n",
       "      <td>Northwest Queens</td>\n",
       "      <td>All Midtown</td>\n",
       "      <td>All Downtown</td>\n",
       "    </tr>\n",
       "    <tr>\n",
       "      <th>borough</th>\n",
       "      <td>Manhattan</td>\n",
       "      <td>Manhattan</td>\n",
       "      <td>Queens</td>\n",
       "      <td>Manhattan</td>\n",
       "      <td>Manhattan</td>\n",
       "    </tr>\n",
       "  </tbody>\n",
       "</table>\n",
       "</div>"
      ],
      "text/plain": [
       "rental_id                       1545               2472              10234  \\\n",
       "building_id                  44518357           94441623          87632265   \n",
       "rent                             2550              11500              3000   \n",
       "bedrooms                            0                  2                 3   \n",
       "bathrooms                           1                  2                 1   \n",
       "size_sqft                         480               2000              1000   \n",
       "min_to_subway                       9                  4                 4   \n",
       "floor                               2                  1                 1   \n",
       "building_age_yrs                   17                 96               106   \n",
       "no_fee                              1                  0                 0   \n",
       "has_roofdeck                        1                  0                 0   \n",
       "has_washer_dryer                    0                  0                 0   \n",
       "has_doorman                         0                  0                 0   \n",
       "has_elevator                        1                  0                 0   \n",
       "has_dishwasher                      1                  0                 0   \n",
       "has_patio                           0                  0                 0   \n",
       "has_gym                             1                  0                 0   \n",
       "neighborhood          Upper East Side  Greenwich Village           Astoria   \n",
       "submarket         All Upper East Side       All Downtown  Northwest Queens   \n",
       "borough                     Manhattan          Manhattan            Queens   \n",
       "\n",
       "rental_id               2919               2790   \n",
       "building_id          76909719           92953520  \n",
       "rent                     4500               4795  \n",
       "bedrooms                    1                  1  \n",
       "bathrooms                   1                  1  \n",
       "size_sqft                 916                975  \n",
       "min_to_subway               2                  3  \n",
       "floor                      51                  8  \n",
       "building_age_yrs           29                 31  \n",
       "no_fee                      0                  0  \n",
       "has_roofdeck                1                  0  \n",
       "has_washer_dryer            0                  0  \n",
       "has_doorman                 1                  1  \n",
       "has_elevator                1                  1  \n",
       "has_dishwasher              1                  1  \n",
       "has_patio                   0                  0  \n",
       "has_gym                     0                  1  \n",
       "neighborhood          Midtown  Greenwich Village  \n",
       "submarket         All Midtown       All Downtown  \n",
       "borough             Manhattan          Manhattan  "
      ]
     },
     "execution_count": 4,
     "metadata": {},
     "output_type": "execute_result"
    }
   ],
   "source": [
    "raw_df.head(5).transpose()"
   ]
  },
  {
   "cell_type": "code",
   "execution_count": 5,
   "metadata": {},
   "outputs": [
    {
     "data": {
      "text/html": [
       "<div>\n",
       "<style scoped>\n",
       "    .dataframe tbody tr th:only-of-type {\n",
       "        vertical-align: middle;\n",
       "    }\n",
       "\n",
       "    .dataframe tbody tr th {\n",
       "        vertical-align: top;\n",
       "    }\n",
       "\n",
       "    .dataframe thead th {\n",
       "        text-align: right;\n",
       "    }\n",
       "</style>\n",
       "<table border=\"1\" class=\"dataframe\">\n",
       "  <thead>\n",
       "    <tr style=\"text-align: right;\">\n",
       "      <th></th>\n",
       "      <th>building_id</th>\n",
       "      <th>rent</th>\n",
       "      <th>bedrooms</th>\n",
       "      <th>bathrooms</th>\n",
       "      <th>size_sqft</th>\n",
       "      <th>min_to_subway</th>\n",
       "      <th>floor</th>\n",
       "      <th>building_age_yrs</th>\n",
       "      <th>no_fee</th>\n",
       "      <th>has_roofdeck</th>\n",
       "      <th>has_washer_dryer</th>\n",
       "      <th>has_doorman</th>\n",
       "      <th>has_elevator</th>\n",
       "      <th>has_dishwasher</th>\n",
       "      <th>has_patio</th>\n",
       "      <th>has_gym</th>\n",
       "      <th>neighborhood</th>\n",
       "      <th>submarket</th>\n",
       "      <th>borough</th>\n",
       "    </tr>\n",
       "    <tr>\n",
       "      <th>rental_id</th>\n",
       "      <th></th>\n",
       "      <th></th>\n",
       "      <th></th>\n",
       "      <th></th>\n",
       "      <th></th>\n",
       "      <th></th>\n",
       "      <th></th>\n",
       "      <th></th>\n",
       "      <th></th>\n",
       "      <th></th>\n",
       "      <th></th>\n",
       "      <th></th>\n",
       "      <th></th>\n",
       "      <th></th>\n",
       "      <th></th>\n",
       "      <th></th>\n",
       "      <th></th>\n",
       "      <th></th>\n",
       "      <th></th>\n",
       "    </tr>\n",
       "  </thead>\n",
       "  <tbody>\n",
       "    <tr>\n",
       "      <th>6897</th>\n",
       "      <td>71369765</td>\n",
       "      <td>2695</td>\n",
       "      <td>0.0</td>\n",
       "      <td>1</td>\n",
       "      <td>440</td>\n",
       "      <td>3</td>\n",
       "      <td>19.0</td>\n",
       "      <td>37</td>\n",
       "      <td>0</td>\n",
       "      <td>0</td>\n",
       "      <td>0</td>\n",
       "      <td>1</td>\n",
       "      <td>1</td>\n",
       "      <td>0</td>\n",
       "      <td>0</td>\n",
       "      <td>1</td>\n",
       "      <td>Midtown</td>\n",
       "      <td>All Midtown</td>\n",
       "      <td>Manhattan</td>\n",
       "    </tr>\n",
       "    <tr>\n",
       "      <th>8728</th>\n",
       "      <td>76260672</td>\n",
       "      <td>3095</td>\n",
       "      <td>2.0</td>\n",
       "      <td>2</td>\n",
       "      <td>1001</td>\n",
       "      <td>3</td>\n",
       "      <td>5.0</td>\n",
       "      <td>74</td>\n",
       "      <td>1</td>\n",
       "      <td>0</td>\n",
       "      <td>0</td>\n",
       "      <td>0</td>\n",
       "      <td>0</td>\n",
       "      <td>0</td>\n",
       "      <td>0</td>\n",
       "      <td>0</td>\n",
       "      <td>Sunnyside</td>\n",
       "      <td>Northwest Queens</td>\n",
       "      <td>Queens</td>\n",
       "    </tr>\n",
       "    <tr>\n",
       "      <th>1405</th>\n",
       "      <td>23741299</td>\n",
       "      <td>5195</td>\n",
       "      <td>2.0</td>\n",
       "      <td>2</td>\n",
       "      <td>1085</td>\n",
       "      <td>6</td>\n",
       "      <td>4.0</td>\n",
       "      <td>8</td>\n",
       "      <td>1</td>\n",
       "      <td>0</td>\n",
       "      <td>1</td>\n",
       "      <td>0</td>\n",
       "      <td>0</td>\n",
       "      <td>0</td>\n",
       "      <td>0</td>\n",
       "      <td>0</td>\n",
       "      <td>Williamsburg</td>\n",
       "      <td>North Brooklyn</td>\n",
       "      <td>Brooklyn</td>\n",
       "    </tr>\n",
       "    <tr>\n",
       "      <th>7060</th>\n",
       "      <td>47570654</td>\n",
       "      <td>2695</td>\n",
       "      <td>0.0</td>\n",
       "      <td>1</td>\n",
       "      <td>375</td>\n",
       "      <td>4</td>\n",
       "      <td>21.0</td>\n",
       "      <td>108</td>\n",
       "      <td>1</td>\n",
       "      <td>0</td>\n",
       "      <td>0</td>\n",
       "      <td>0</td>\n",
       "      <td>0</td>\n",
       "      <td>0</td>\n",
       "      <td>0</td>\n",
       "      <td>0</td>\n",
       "      <td>Financial District</td>\n",
       "      <td>All Downtown</td>\n",
       "      <td>Manhattan</td>\n",
       "    </tr>\n",
       "    <tr>\n",
       "      <th>9023</th>\n",
       "      <td>27404787</td>\n",
       "      <td>3375</td>\n",
       "      <td>2.0</td>\n",
       "      <td>1</td>\n",
       "      <td>800</td>\n",
       "      <td>6</td>\n",
       "      <td>4.0</td>\n",
       "      <td>106</td>\n",
       "      <td>0</td>\n",
       "      <td>0</td>\n",
       "      <td>0</td>\n",
       "      <td>0</td>\n",
       "      <td>0</td>\n",
       "      <td>0</td>\n",
       "      <td>0</td>\n",
       "      <td>0</td>\n",
       "      <td>Upper West Side</td>\n",
       "      <td>All Upper West Side</td>\n",
       "      <td>Manhattan</td>\n",
       "    </tr>\n",
       "  </tbody>\n",
       "</table>\n",
       "</div>"
      ],
      "text/plain": [
       "           building_id  rent  bedrooms  bathrooms  size_sqft  min_to_subway  \\\n",
       "rental_id                                                                     \n",
       "6897          71369765  2695       0.0          1        440              3   \n",
       "8728          76260672  3095       2.0          2       1001              3   \n",
       "1405          23741299  5195       2.0          2       1085              6   \n",
       "7060          47570654  2695       0.0          1        375              4   \n",
       "9023          27404787  3375       2.0          1        800              6   \n",
       "\n",
       "           floor  building_age_yrs  no_fee  has_roofdeck  has_washer_dryer  \\\n",
       "rental_id                                                                    \n",
       "6897        19.0                37       0             0                 0   \n",
       "8728         5.0                74       1             0                 0   \n",
       "1405         4.0                 8       1             0                 1   \n",
       "7060        21.0               108       1             0                 0   \n",
       "9023         4.0               106       0             0                 0   \n",
       "\n",
       "           has_doorman  has_elevator  has_dishwasher  has_patio  has_gym  \\\n",
       "rental_id                                                                  \n",
       "6897                 1             1               0          0        1   \n",
       "8728                 0             0               0          0        0   \n",
       "1405                 0             0               0          0        0   \n",
       "7060                 0             0               0          0        0   \n",
       "9023                 0             0               0          0        0   \n",
       "\n",
       "                 neighborhood            submarket    borough  \n",
       "rental_id                                                      \n",
       "6897                  Midtown          All Midtown  Manhattan  \n",
       "8728                Sunnyside     Northwest Queens     Queens  \n",
       "1405             Williamsburg       North Brooklyn   Brooklyn  \n",
       "7060       Financial District         All Downtown  Manhattan  \n",
       "9023          Upper West Side  All Upper West Side  Manhattan  "
      ]
     },
     "execution_count": 5,
     "metadata": {},
     "output_type": "execute_result"
    }
   ],
   "source": [
    "raw_df.sample(5)"
   ]
  },
  {
   "cell_type": "markdown",
   "metadata": {},
   "source": [
    "### Data Exploration For target variable (Rent)\n",
    "Trying to find interesting or surprising patterns about the data"
   ]
  },
  {
   "cell_type": "code",
   "execution_count": 6,
   "metadata": {},
   "outputs": [
    {
     "data": {
      "image/png": "[encoded data removed]",
      "text/plain": [
       "<Figure size 432x288 with 1 Axes>"
      ]
     },
     "metadata": {},
     "output_type": "display_data"
    }
   ],
   "source": [
    "_ = raw_df.rent.hist(bins=25)\n",
    "_ = plt.xlabel('Monthly Rent')\n",
    "_ = plt.ylabel('Count')"
   ]
  },
  {
   "cell_type": "code",
   "execution_count": 7,
   "metadata": {},
   "outputs": [
    {
     "name": "stdout",
     "output_type": "stream",
     "text": [
      "Skewness: 2.268812\n",
      "Kurtosis: 6.056724\n"
     ]
    }
   ],
   "source": [
    "print(\"Skewness: %f\" % raw_df['rent'].skew())\n",
    "print(\"Kurtosis: %f\" % raw_df['rent'].kurt())"
   ]
  },
  {
   "cell_type": "markdown",
   "metadata": {},
   "source": [
    "From the histogram we can see that the distribution is skewed to the right and we have some outliers for higher prices.\n",
    "Nevertheless, skewness and kurtosis values are acceptable so for now I'll keep the data as it is\n",
    "but will keep in mind higher price outliers."
   ]
  },
  {
   "cell_type": "code",
   "execution_count": 8,
   "metadata": {},
   "outputs": [
    {
     "data": {
      "text/html": [
       "<div>\n",
       "<style scoped>\n",
       "    .dataframe tbody tr th:only-of-type {\n",
       "        vertical-align: middle;\n",
       "    }\n",
       "\n",
       "    .dataframe tbody tr th {\n",
       "        vertical-align: top;\n",
       "    }\n",
       "\n",
       "    .dataframe thead th {\n",
       "        text-align: right;\n",
       "    }\n",
       "</style>\n",
       "<table border=\"1\" class=\"dataframe\">\n",
       "  <thead>\n",
       "    <tr style=\"text-align: right;\">\n",
       "      <th></th>\n",
       "      <th>building_id</th>\n",
       "      <th>rent</th>\n",
       "      <th>bedrooms</th>\n",
       "      <th>bathrooms</th>\n",
       "      <th>size_sqft</th>\n",
       "      <th>min_to_subway</th>\n",
       "      <th>floor</th>\n",
       "      <th>building_age_yrs</th>\n",
       "      <th>no_fee</th>\n",
       "      <th>has_roofdeck</th>\n",
       "      <th>has_washer_dryer</th>\n",
       "      <th>has_doorman</th>\n",
       "      <th>has_elevator</th>\n",
       "      <th>has_dishwasher</th>\n",
       "      <th>has_patio</th>\n",
       "      <th>has_gym</th>\n",
       "    </tr>\n",
       "  </thead>\n",
       "  <tbody>\n",
       "    <tr>\n",
       "      <th>count</th>\n",
       "      <td>5.000000e+03</td>\n",
       "      <td>5000.000000</td>\n",
       "      <td>5000.000000</td>\n",
       "      <td>5000.000000</td>\n",
       "      <td>5000.000000</td>\n",
       "      <td>5000.000000</td>\n",
       "      <td>5000.000000</td>\n",
       "      <td>5000.000000</td>\n",
       "      <td>5000.000000</td>\n",
       "      <td>5000.00000</td>\n",
       "      <td>5000.000000</td>\n",
       "      <td>5000.000000</td>\n",
       "      <td>5000.000000</td>\n",
       "      <td>5000.000000</td>\n",
       "      <td>5000.000000</td>\n",
       "      <td>5000.000000</td>\n",
       "    </tr>\n",
       "    <tr>\n",
       "      <th>mean</th>\n",
       "      <td>5.122007e+07</td>\n",
       "      <td>4536.920800</td>\n",
       "      <td>1.395700</td>\n",
       "      <td>1.321600</td>\n",
       "      <td>920.101400</td>\n",
       "      <td>5.079200</td>\n",
       "      <td>10.190200</td>\n",
       "      <td>52.093200</td>\n",
       "      <td>0.429600</td>\n",
       "      <td>0.12860</td>\n",
       "      <td>0.133800</td>\n",
       "      <td>0.228000</td>\n",
       "      <td>0.240000</td>\n",
       "      <td>0.155600</td>\n",
       "      <td>0.045600</td>\n",
       "      <td>0.143800</td>\n",
       "    </tr>\n",
       "    <tr>\n",
       "      <th>std</th>\n",
       "      <td>2.802283e+07</td>\n",
       "      <td>2929.838953</td>\n",
       "      <td>0.961018</td>\n",
       "      <td>0.565542</td>\n",
       "      <td>440.150464</td>\n",
       "      <td>5.268897</td>\n",
       "      <td>10.565361</td>\n",
       "      <td>40.224501</td>\n",
       "      <td>0.495069</td>\n",
       "      <td>0.33479</td>\n",
       "      <td>0.340471</td>\n",
       "      <td>0.419585</td>\n",
       "      <td>0.427126</td>\n",
       "      <td>0.362512</td>\n",
       "      <td>0.208637</td>\n",
       "      <td>0.350922</td>\n",
       "    </tr>\n",
       "    <tr>\n",
       "      <th>min</th>\n",
       "      <td>7.107000e+03</td>\n",
       "      <td>1250.000000</td>\n",
       "      <td>0.000000</td>\n",
       "      <td>0.000000</td>\n",
       "      <td>250.000000</td>\n",
       "      <td>0.000000</td>\n",
       "      <td>0.000000</td>\n",
       "      <td>0.000000</td>\n",
       "      <td>0.000000</td>\n",
       "      <td>0.00000</td>\n",
       "      <td>0.000000</td>\n",
       "      <td>0.000000</td>\n",
       "      <td>0.000000</td>\n",
       "      <td>0.000000</td>\n",
       "      <td>0.000000</td>\n",
       "      <td>0.000000</td>\n",
       "    </tr>\n",
       "    <tr>\n",
       "      <th>25%</th>\n",
       "      <td>2.699811e+07</td>\n",
       "      <td>2750.000000</td>\n",
       "      <td>1.000000</td>\n",
       "      <td>1.000000</td>\n",
       "      <td>633.000000</td>\n",
       "      <td>2.000000</td>\n",
       "      <td>3.000000</td>\n",
       "      <td>12.000000</td>\n",
       "      <td>0.000000</td>\n",
       "      <td>0.00000</td>\n",
       "      <td>0.000000</td>\n",
       "      <td>0.000000</td>\n",
       "      <td>0.000000</td>\n",
       "      <td>0.000000</td>\n",
       "      <td>0.000000</td>\n",
       "      <td>0.000000</td>\n",
       "    </tr>\n",
       "    <tr>\n",
       "      <th>50%</th>\n",
       "      <td>5.069894e+07</td>\n",
       "      <td>3600.000000</td>\n",
       "      <td>1.000000</td>\n",
       "      <td>1.000000</td>\n",
       "      <td>800.000000</td>\n",
       "      <td>4.000000</td>\n",
       "      <td>6.000000</td>\n",
       "      <td>44.000000</td>\n",
       "      <td>0.000000</td>\n",
       "      <td>0.00000</td>\n",
       "      <td>0.000000</td>\n",
       "      <td>0.000000</td>\n",
       "      <td>0.000000</td>\n",
       "      <td>0.000000</td>\n",
       "      <td>0.000000</td>\n",
       "      <td>0.000000</td>\n",
       "    </tr>\n",
       "    <tr>\n",
       "      <th>75%</th>\n",
       "      <td>7.572064e+07</td>\n",
       "      <td>5200.000000</td>\n",
       "      <td>2.000000</td>\n",
       "      <td>2.000000</td>\n",
       "      <td>1094.000000</td>\n",
       "      <td>6.000000</td>\n",
       "      <td>14.000000</td>\n",
       "      <td>89.000000</td>\n",
       "      <td>1.000000</td>\n",
       "      <td>0.00000</td>\n",
       "      <td>0.000000</td>\n",
       "      <td>0.000000</td>\n",
       "      <td>0.000000</td>\n",
       "      <td>0.000000</td>\n",
       "      <td>0.000000</td>\n",
       "      <td>0.000000</td>\n",
       "    </tr>\n",
       "    <tr>\n",
       "      <th>max</th>\n",
       "      <td>9.998721e+07</td>\n",
       "      <td>20000.000000</td>\n",
       "      <td>5.000000</td>\n",
       "      <td>5.000000</td>\n",
       "      <td>4800.000000</td>\n",
       "      <td>51.000000</td>\n",
       "      <td>83.000000</td>\n",
       "      <td>180.000000</td>\n",
       "      <td>1.000000</td>\n",
       "      <td>1.00000</td>\n",
       "      <td>1.000000</td>\n",
       "      <td>1.000000</td>\n",
       "      <td>1.000000</td>\n",
       "      <td>1.000000</td>\n",
       "      <td>1.000000</td>\n",
       "      <td>1.000000</td>\n",
       "    </tr>\n",
       "  </tbody>\n",
       "</table>\n",
       "</div>"
      ],
      "text/plain": [
       "        building_id          rent     bedrooms    bathrooms    size_sqft  \\\n",
       "count  5.000000e+03   5000.000000  5000.000000  5000.000000  5000.000000   \n",
       "mean   5.122007e+07   4536.920800     1.395700     1.321600   920.101400   \n",
       "std    2.802283e+07   2929.838953     0.961018     0.565542   440.150464   \n",
       "min    7.107000e+03   1250.000000     0.000000     0.000000   250.000000   \n",
       "25%    2.699811e+07   2750.000000     1.000000     1.000000   633.000000   \n",
       "50%    5.069894e+07   3600.000000     1.000000     1.000000   800.000000   \n",
       "75%    7.572064e+07   5200.000000     2.000000     2.000000  1094.000000   \n",
       "max    9.998721e+07  20000.000000     5.000000     5.000000  4800.000000   \n",
       "\n",
       "       min_to_subway        floor  building_age_yrs       no_fee  \\\n",
       "count    5000.000000  5000.000000       5000.000000  5000.000000   \n",
       "mean        5.079200    10.190200         52.093200     0.429600   \n",
       "std         5.268897    10.565361         40.224501     0.495069   \n",
       "min         0.000000     0.000000          0.000000     0.000000   \n",
       "25%         2.000000     3.000000         12.000000     0.000000   \n",
       "50%         4.000000     6.000000         44.000000     0.000000   \n",
       "75%         6.000000    14.000000         89.000000     1.000000   \n",
       "max        51.000000    83.000000        180.000000     1.000000   \n",
       "\n",
       "       has_roofdeck  has_washer_dryer  has_doorman  has_elevator  \\\n",
       "count    5000.00000       5000.000000  5000.000000   5000.000000   \n",
       "mean        0.12860          0.133800     0.228000      0.240000   \n",
       "std         0.33479          0.340471     0.419585      0.427126   \n",
       "min         0.00000          0.000000     0.000000      0.000000   \n",
       "25%         0.00000          0.000000     0.000000      0.000000   \n",
       "50%         0.00000          0.000000     0.000000      0.000000   \n",
       "75%         0.00000          0.000000     0.000000      0.000000   \n",
       "max         1.00000          1.000000     1.000000      1.000000   \n",
       "\n",
       "       has_dishwasher    has_patio      has_gym  \n",
       "count     5000.000000  5000.000000  5000.000000  \n",
       "mean         0.155600     0.045600     0.143800  \n",
       "std          0.362512     0.208637     0.350922  \n",
       "min          0.000000     0.000000     0.000000  \n",
       "25%          0.000000     0.000000     0.000000  \n",
       "50%          0.000000     0.000000     0.000000  \n",
       "75%          0.000000     0.000000     0.000000  \n",
       "max          1.000000     1.000000     1.000000  "
      ]
     },
     "execution_count": 8,
     "metadata": {},
     "output_type": "execute_result"
    }
   ],
   "source": [
    "raw_df.describe()"
   ]
  },
  {
   "cell_type": "markdown",
   "metadata": {},
   "source": [
    "### Feature Exploration\n",
    "Consider what variables are the most important in order to build a prediction model on targer variable (rent).\n",
    "#### Things to consider:\n",
    "* How many variables are there?\n",
    "* What variables make most sense to use from an intuitive standpoint?\n",
    "* What varibales have the highest correlation with rent varialbe? "
   ]
  },
  {
   "cell_type": "code",
   "execution_count": 9,
   "metadata": {},
   "outputs": [
    {
     "name": "stdout",
     "output_type": "stream",
     "text": [
      "['building_id', 'rent', 'bedrooms', 'bathrooms', 'size_sqft', 'min_to_subway', 'floor', 'building_age_yrs', 'no_fee', 'has_roofdeck', 'has_washer_dryer', 'has_doorman', 'has_elevator', 'has_dishwasher', 'has_patio', 'has_gym', 'neighborhood', 'submarket', 'borough']\n",
      "\n",
      "<class 'pandas.core.frame.DataFrame'>\n",
      "Int64Index: 5000 entries, 1545 to 4718\n",
      "Data columns (total 19 columns):\n",
      "building_id         5000 non-null int64\n",
      "rent                5000 non-null int64\n",
      "bedrooms            5000 non-null float64\n",
      "bathrooms           5000 non-null int64\n",
      "size_sqft           5000 non-null int64\n",
      "min_to_subway       5000 non-null int64\n",
      "floor               5000 non-null float64\n",
      "building_age_yrs    5000 non-null int64\n",
      "no_fee              5000 non-null int64\n",
      "has_roofdeck        5000 non-null int64\n",
      "has_washer_dryer    5000 non-null int64\n",
      "has_doorman         5000 non-null int64\n",
      "has_elevator        5000 non-null int64\n",
      "has_dishwasher      5000 non-null int64\n",
      "has_patio           5000 non-null int64\n",
      "has_gym             5000 non-null int64\n",
      "neighborhood        5000 non-null object\n",
      "submarket           5000 non-null object\n",
      "borough             5000 non-null object\n",
      "dtypes: float64(2), int64(14), object(3)\n",
      "memory usage: 781.2+ KB\n"
     ]
    }
   ],
   "source": [
    "print(list(raw_df))\n",
    "print()\n",
    "\n",
    "raw_df.info()"
   ]
  },
  {
   "cell_type": "code",
   "execution_count": 10,
   "metadata": {},
   "outputs": [
    {
     "data": {
      "text/plain": [
       "size_sqft           0.808784\n",
       "bathrooms           0.733644\n",
       "bedrooms            0.531200\n",
       "floor               0.272351\n",
       "has_elevator        0.120822\n",
       "has_doorman         0.099106\n",
       "has_dishwasher      0.096631\n",
       "has_washer_dryer    0.096136\n",
       "has_gym             0.093737\n",
       "has_roofdeck        0.081286\n",
       "has_patio           0.058260\n",
       "min_to_subway       0.003652\n",
       "building_id        -0.001235\n",
       "no_fee             -0.091769\n",
       "building_age_yrs   -0.122302\n",
       "Name: rent, dtype: float64"
      ]
     },
     "execution_count": 10,
     "metadata": {},
     "output_type": "execute_result"
    }
   ],
   "source": [
    "raw_df.corr()[\"rent\"].sort_values(ascending = False)[1:]"
   ]
  },
  {
   "cell_type": "markdown",
   "metadata": {},
   "source": [
    "Sems like size_sqft, bathrooms and floor have the highest impact on rent price \n",
    "(I am gouing to omit bedrooms for now because of obvious multicollinearity between bedrooms and bathrooms).\n",
    "Let's explore each variable on a deeper level.\n",
    "\n"
   ]
  },
  {
   "cell_type": "markdown",
   "metadata": {},
   "source": [
    "## Scatterplots\n",
    "Create a scatterplot of size_sqft, bathrooms, and floor.\n",
    "\n",
    "What are their relationship? \n",
    "Is it positive or negative? Linear? Non-linear?"
   ]
  },
  {
   "cell_type": "code",
   "execution_count": 11,
   "metadata": {},
   "outputs": [
    {
     "data": {
      "image/png": "[encoded data removed]",
      "text/plain": [
       "<Figure size 432x288 with 1 Axes>"
      ]
     },
     "metadata": {},
     "output_type": "display_data"
    }
   ],
   "source": [
    "_ = raw_df.plot.scatter('size_sqft', 'rent')"
   ]
  },
  {
   "cell_type": "code",
   "execution_count": 12,
   "metadata": {},
   "outputs": [
    {
     "data": {
      "image/png": "[encoded data removed]",
      "text/plain": [
       "<Figure size 432x288 with 1 Axes>"
      ]
     },
     "metadata": {},
     "output_type": "display_data"
    }
   ],
   "source": [
    "_ = raw_df.plot.scatter('bathrooms', 'rent')"
   ]
  },
  {
   "cell_type": "markdown",
   "metadata": {},
   "source": [
    "Obviously rent is higher when # of bathrooms is higher. \n",
    "This plot also demonstartes 2 abnormalities for 5 bathroom apartments. Their price is lower than some of 4,3 or even 2 bedrooms. This indicates that bethrooms is not the only factor that significantly influences the rent price. "
   ]
  },
  {
   "cell_type": "code",
   "execution_count": 13,
   "metadata": {},
   "outputs": [
    {
     "data": {
      "image/png": "[encoded data removed]",
      "text/plain": [
       "<Figure size 432x288 with 1 Axes>"
      ]
     },
     "metadata": {},
     "output_type": "display_data"
    }
   ],
   "source": [
    "_ = raw_df.plot.scatter('floor', 'rent')"
   ]
  },
  {
   "cell_type": "markdown",
   "metadata": {},
   "source": []
  },
  {
   "cell_type": "markdown",
   "metadata": {},
   "source": [
    "### Fidings: \n",
    "I found out some varibales with high correlation to rent as well as their relationship.\n",
    "For example, size_sqft definitely has a positive lianear relationship with label variable (rent) and their correlation is quiet high.\n",
    "Lets's explore its impact on a deeper level by constructing simple linear regression model."
   ]
  },
  {
   "cell_type": "markdown",
   "metadata": {},
   "source": [
    "### Model\n",
    "### Single variable Linear Regression with statsmodels:\n",
    "* Calculate slope and interscept \n",
    "* Create a plot"
   ]
  },
  {
   "cell_type": "code",
   "execution_count": 14,
   "metadata": {},
   "outputs": [
    {
     "data": {
      "text/plain": [
       "building_id         0\n",
       "rent                0\n",
       "bedrooms            0\n",
       "bathrooms           0\n",
       "size_sqft           0\n",
       "min_to_subway       0\n",
       "floor               0\n",
       "building_age_yrs    0\n",
       "no_fee              0\n",
       "has_roofdeck        0\n",
       "has_washer_dryer    0\n",
       "has_doorman         0\n",
       "has_elevator        0\n",
       "has_dishwasher      0\n",
       "has_patio           0\n",
       "has_gym             0\n",
       "neighborhood        0\n",
       "submarket           0\n",
       "borough             0\n",
       "dtype: int64"
      ]
     },
     "execution_count": 14,
     "metadata": {},
     "output_type": "execute_result"
    }
   ],
   "source": [
    "raw_df.isnull().sum()"
   ]
  },
  {
   "cell_type": "markdown",
   "metadata": {},
   "source": [
    "Luckily I don't have to worry about null values and can jump into biulding a model right away"
   ]
  },
  {
   "cell_type": "code",
   "execution_count": 15,
   "metadata": {},
   "outputs": [
    {
     "name": "stdout",
     "output_type": "stream",
     "text": [
      "slope: 5.384, intercept: -416.6\n"
     ]
    }
   ],
   "source": [
    "slope, intercept = np.polyfit(raw_df.size_sqft, raw_df.rent, 1)\n",
    "print('slope: %0.3f, intercept: %0.1f' % (slope, intercept))"
   ]
  },
  {
   "cell_type": "code",
   "execution_count": 16,
   "metadata": {},
   "outputs": [
    {
     "name": "stdout",
     "output_type": "stream",
     "text": [
      "Now I can calculate what would be the rent price for 700 square fit apartment: $3351.98\n"
     ]
    }
   ],
   "source": [
    "print('Now I can calculate what would be the rent price for 700 square fit apartment: $%0.2f' \n",
    "      % (slope * 700 + intercept))"
   ]
  },
  {
   "cell_type": "code",
   "execution_count": 17,
   "metadata": {},
   "outputs": [
    {
     "data": {
      "image/png": "[encoded data removed]",
      "text/plain": [
       "<Figure size 432x288 with 1 Axes>"
      ]
     },
     "metadata": {},
     "output_type": "display_data"
    }
   ],
   "source": [
    "_ = plt.plot(raw_df.size_sqft, raw_df.rent, color='blue', marker='.', markersize=12, linestyle='none')\n",
    "_ = plt.plot([0, 5000], [intercept, intercept + slope * 5000],  color='red', linewidth=4)\n",
    "_ = plt.title('')"
   ]
  },
  {
   "cell_type": "code",
   "execution_count": 18,
   "metadata": {},
   "outputs": [
    {
     "data": {
      "text/plain": [
       "count    5000.000000\n",
       "mean      920.101400\n",
       "std       440.150464\n",
       "min       250.000000\n",
       "25%       633.000000\n",
       "50%       800.000000\n",
       "75%      1094.000000\n",
       "max      4800.000000\n",
       "Name: size_sqft, dtype: float64"
      ]
     },
     "execution_count": 18,
     "metadata": {},
     "output_type": "execute_result"
    }
   ],
   "source": [
    "raw_df.size_sqft.describe()"
   ]
  },
  {
   "cell_type": "markdown",
   "metadata": {},
   "source": [
    "The line looks decent visually but lets check how accurate is it \n",
    "by calculating rent residual between predicted and actual rent values \n",
    "as well as constructing OSL (Ordinary Least Squares)."
   ]
  },
  {
   "cell_type": "code",
   "execution_count": 19,
   "metadata": {},
   "outputs": [],
   "source": [
    "raw_df['rent_predicted'] = raw_df['rent'] * slope + intercept\n",
    "raw_df['rent_residual'] = raw_df['rent_predicted'] - raw_df['rent']"
   ]
  },
  {
   "cell_type": "code",
   "execution_count": 20,
   "metadata": {},
   "outputs": [
    {
     "data": {
      "text/plain": [
       "<matplotlib.axes._subplots.AxesSubplot at 0x11ab91978>"
      ]
     },
     "execution_count": 20,
     "metadata": {},
     "output_type": "execute_result"
    },
    {
     "data": {
      "image/png": "[encoded data removed]",
      "text/plain": [
       "<Figure size 432x288 with 1 Axes>"
      ]
     },
     "metadata": {},
     "output_type": "display_data"
    }
   ],
   "source": [
    "raw_df['rent_residual'].hist(bins=20)"
   ]
  },
  {
   "cell_type": "code",
   "execution_count": 21,
   "metadata": {},
   "outputs": [
    {
     "name": "stdout",
     "output_type": "stream",
     "text": [
      "                            OLS Regression Results                            \n",
      "==============================================================================\n",
      "Dep. Variable:                   rent   R-squared:                       0.654\n",
      "Model:                            OLS   Adj. R-squared:                  0.654\n",
      "Method:                 Least Squares   F-statistic:                     9453.\n",
      "Date:                Wed, 17 Jun 2020   Prob (F-statistic):               0.00\n",
      "Time:                        15:12:51   Log-Likelihood:                -44353.\n",
      "No. Observations:                5000   AIC:                         8.871e+04\n",
      "Df Residuals:                    4998   BIC:                         8.872e+04\n",
      "Df Model:                           1                                         \n",
      "Covariance Type:            nonrobust                                         \n",
      "==============================================================================\n",
      "                 coef    std err          t      P>|t|      [0.025      0.975]\n",
      "------------------------------------------------------------------------------\n",
      "const       -416.5609     56.478     -7.376      0.000    -527.282    -305.840\n",
      "size_sqft      5.3836      0.055     97.224      0.000       5.275       5.492\n",
      "==============================================================================\n",
      "Omnibus:                      870.478   Durbin-Watson:                   2.006\n",
      "Prob(Omnibus):                  0.000   Jarque-Bera (JB):             7186.761\n",
      "Skew:                           0.594   Prob(JB):                         0.00\n",
      "Kurtosis:                       8.752   Cond. No.                     2.36e+03\n",
      "==============================================================================\n",
      "\n",
      "Warnings:\n",
      "[1] Standard Errors assume that the covariance matrix of the errors is correctly specified.\n",
      "[2] The condition number is large, 2.36e+03. This might indicate that there are\n",
      "strong multicollinearity or other numerical problems.\n"
     ]
    }
   ],
   "source": [
    "raw_df = sm.add_constant(raw_df)\n",
    "\n",
    "est = sm.OLS(raw_df['rent'], \n",
    "             raw_df[['const', 'size_sqft']]\n",
    "            ).fit()\n",
    "print(est.summary())# Add a constant to our existing dataframe for modeling purposes"
   ]
  },
  {
   "cell_type": "code",
   "execution_count": 22,
   "metadata": {},
   "outputs": [
    {
     "data": {
      "image/png": "[encoded data removed]",
      "text/plain": [
       "<Figure size 432x288 with 1 Axes>"
      ]
     },
     "metadata": {},
     "output_type": "display_data"
    }
   ],
   "source": [
    "# histogram on the rent residuals based on one atrribute (size_sqft)\n",
    "_ = plt.hist(est.resid, bins=50)"
   ]
  },
  {
   "cell_type": "markdown",
   "metadata": {},
   "source": [
    "As we can see our const and size_sqft coef variables are almost identical to the ones \n",
    "we predicted before by the use of numpy polyfit function.\n",
    "R-squared and Adjusted R-Squared are both 0.654 which is considered to have a moderate effect size.\n",
    "P value is 0 which is also good (this indicates that there is 0% that that the result \n",
    "would have come up in a random distribution).\n"
   ]
  },
  {
   "cell_type": "markdown",
   "metadata": {},
   "source": [
    "I achived some decent results on rent prediction. However, I can not but wonder whether I can do better by putting to use more than one predicting variable."
   ]
  },
  {
   "cell_type": "markdown",
   "metadata": {},
   "source": [
    "### Multiple Linear Regression with statsmodels"
   ]
  },
  {
   "cell_type": "markdown",
   "metadata": {},
   "source": [
    "Let's try to use statsmodels and OLS again but introduce more variables to the model.\n",
    "Using brut forth approach I encountered that the best Adj R-squared value comes up for 'size_sqft', 'bathrooms', 'floor', 'has_elevator' variables used together. "
   ]
  },
  {
   "cell_type": "code",
   "execution_count": 23,
   "metadata": {},
   "outputs": [
    {
     "name": "stdout",
     "output_type": "stream",
     "text": [
      "                            OLS Regression Results                            \n",
      "==============================================================================\n",
      "Dep. Variable:                   rent   R-squared:                       0.717\n",
      "Model:                            OLS   Adj. R-squared:                  0.717\n",
      "Method:                 Least Squares   F-statistic:                     3170.\n",
      "Date:                Wed, 17 Jun 2020   Prob (F-statistic):               0.00\n",
      "Time:                        15:12:51   Log-Likelihood:                -43848.\n",
      "No. Observations:                5000   AIC:                         8.771e+04\n",
      "Df Residuals:                    4995   BIC:                         8.774e+04\n",
      "Df Model:                           4                                         \n",
      "Covariance Type:            nonrobust                                         \n",
      "================================================================================\n",
      "                   coef    std err          t      P>|t|      [0.025      0.975]\n",
      "--------------------------------------------------------------------------------\n",
      "const        -1378.3707     59.167    -23.296      0.000   -1494.364   -1262.377\n",
      "size_sqft        4.0039      0.079     50.928      0.000       3.850       4.158\n",
      "bathrooms     1256.5571     61.494     20.434      0.000    1136.001    1377.113\n",
      "floor           47.4242      2.120     22.371      0.000      43.268      51.580\n",
      "has_elevator   364.0891     51.970      7.006      0.000     262.205     465.973\n",
      "==============================================================================\n",
      "Omnibus:                     1232.382   Durbin-Watson:                   2.003\n",
      "Prob(Omnibus):                  0.000   Jarque-Bera (JB):             9382.927\n",
      "Skew:                           0.968   Prob(JB):                         0.00\n",
      "Kurtosis:                       9.426   Cond. No.                     3.31e+03\n",
      "==============================================================================\n",
      "\n",
      "Warnings:\n",
      "[1] Standard Errors assume that the covariance matrix of the errors is correctly specified.\n",
      "[2] The condition number is large, 3.31e+03. This might indicate that there are\n",
      "strong multicollinearity or other numerical problems.\n"
     ]
    }
   ],
   "source": [
    "est = sm.OLS(raw_df['rent'], \n",
    "             raw_df[['const', 'size_sqft', 'bathrooms', 'floor', 'has_elevator']]\n",
    "            ).fit()\n",
    "\n",
    "print(est.summary())"
   ]
  },
  {
   "cell_type": "code",
   "execution_count": 24,
   "metadata": {},
   "outputs": [
    {
     "data": {
      "image/png": "[encoded data removed]",
      "text/plain": [
       "<Figure size 432x288 with 1 Axes>"
      ]
     },
     "metadata": {},
     "output_type": "display_data"
    }
   ],
   "source": [
    "_ = plt.hist(est.resid, bins=50)"
   ]
  },
  {
   "cell_type": "markdown",
   "metadata": {},
   "source": [
    "R-squared and Adjusted R-Squared values from OLS are both 0.717 which is higher than before. In addition, Histogram for rent residuals is more uniformal than in the previous case what indicates that our model is indeed more accurate.\n",
    "\n",
    "The outcome is pretty good but let's use sklearn library and see what result can I achieve with it. "
   ]
  },
  {
   "cell_type": "markdown",
   "metadata": {},
   "source": [
    "### Using sklearn for Multiple Linear Regression\n"
   ]
  },
  {
   "cell_type": "code",
   "execution_count": 25,
   "metadata": {},
   "outputs": [
    {
     "data": {
      "text/plain": [
       "LinearRegression(copy_X=True, fit_intercept=True, n_jobs=1, normalize=False)"
      ]
     },
     "execution_count": 25,
     "metadata": {},
     "output_type": "execute_result"
    }
   ],
   "source": [
    "# Creating a LinearRegression object\n",
    "lm = LinearRegression()\n",
    "lm"
   ]
  },
  {
   "cell_type": "markdown",
   "metadata": {},
   "source": [
    "I am going to utilize lm.fit() function which estimates the coefficients of the linear regression using least squares.\n"
   ]
  },
  {
   "cell_type": "code",
   "execution_count": 26,
   "metadata": {},
   "outputs": [
    {
     "data": {
      "text/plain": [
       "LinearRegression(copy_X=True, fit_intercept=True, n_jobs=1, normalize=False)"
      ]
     },
     "execution_count": 26,
     "metadata": {},
     "output_type": "execute_result"
    }
   ],
   "source": [
    "# Using sensible subset of predictors to fit linear regression model\n",
    "dependent_vars = ['bedrooms', 'bathrooms', 'min_to_subway', 'floor', \n",
    "                  'building_age_yrs', 'no_fee', 'has_roofdeck', \n",
    "                  'has_washer_dryer', 'has_doorman', 'has_elevator', \n",
    "                  'has_dishwasher', 'has_gym']\n",
    "\n",
    "X = raw_df[dependent_vars]\n",
    "\n",
    "lm.fit(X, raw_df.rent)"
   ]
  },
  {
   "cell_type": "markdown",
   "metadata": {},
   "source": [
    "Next I am going to estimate intercept and coefficients.\n",
    "Let's look at the estimated coefficients from the linear model using lm.intercept_ and lm.coef_.\n",
    "\n",
    "\n",
    "\n"
   ]
  },
  {
   "cell_type": "code",
   "execution_count": 27,
   "metadata": {},
   "outputs": [
    {
     "name": "stdout",
     "output_type": "stream",
     "text": [
      "Estimated intercept coefficient: -516.420593858\n",
      "Number of coefficients: 12\n"
     ]
    }
   ],
   "source": [
    "print('Estimated intercept coefficient:', lm.intercept_)\n",
    "print('Number of coefficients:', len(lm.coef_))"
   ]
  },
  {
   "cell_type": "markdown",
   "metadata": {},
   "source": [
    "In this example, the intercept is approximately -516.42, and\n",
    "this is the value of the predicted response when x1 = x2 ... xn = 0"
   ]
  },
  {
   "cell_type": "code",
   "execution_count": 28,
   "metadata": {},
   "outputs": [
    {
     "data": {
      "text/html": [
       "<div>\n",
       "<style scoped>\n",
       "    .dataframe tbody tr th:only-of-type {\n",
       "        vertical-align: middle;\n",
       "    }\n",
       "\n",
       "    .dataframe tbody tr th {\n",
       "        vertical-align: top;\n",
       "    }\n",
       "\n",
       "    .dataframe thead th {\n",
       "        text-align: right;\n",
       "    }\n",
       "</style>\n",
       "<table border=\"1\" class=\"dataframe\">\n",
       "  <thead>\n",
       "    <tr style=\"text-align: right;\">\n",
       "      <th></th>\n",
       "      <th>Est. Coefficient</th>\n",
       "    </tr>\n",
       "  </thead>\n",
       "  <tbody>\n",
       "    <tr>\n",
       "      <th>bedrooms</th>\n",
       "      <td>418.199288</td>\n",
       "    </tr>\n",
       "    <tr>\n",
       "      <th>bathrooms</th>\n",
       "      <td>3170.238850</td>\n",
       "    </tr>\n",
       "    <tr>\n",
       "      <th>min_to_subway</th>\n",
       "      <td>-22.612945</td>\n",
       "    </tr>\n",
       "    <tr>\n",
       "      <th>floor</th>\n",
       "      <td>49.073079</td>\n",
       "    </tr>\n",
       "    <tr>\n",
       "      <th>building_age_yrs</th>\n",
       "      <td>-1.477977</td>\n",
       "    </tr>\n",
       "    <tr>\n",
       "      <th>no_fee</th>\n",
       "      <td>-343.001863</td>\n",
       "    </tr>\n",
       "    <tr>\n",
       "      <th>has_roofdeck</th>\n",
       "      <td>-6.841426</td>\n",
       "    </tr>\n",
       "    <tr>\n",
       "      <th>has_washer_dryer</th>\n",
       "      <td>187.474859</td>\n",
       "    </tr>\n",
       "    <tr>\n",
       "      <th>has_doorman</th>\n",
       "      <td>-43.305667</td>\n",
       "    </tr>\n",
       "    <tr>\n",
       "      <th>has_elevator</th>\n",
       "      <td>401.078711</td>\n",
       "    </tr>\n",
       "    <tr>\n",
       "      <th>has_dishwasher</th>\n",
       "      <td>144.221178</td>\n",
       "    </tr>\n",
       "    <tr>\n",
       "      <th>has_gym</th>\n",
       "      <td>-97.496869</td>\n",
       "    </tr>\n",
       "  </tbody>\n",
       "</table>\n",
       "</div>"
      ],
      "text/plain": [
       "                  Est. Coefficient\n",
       "bedrooms                418.199288\n",
       "bathrooms              3170.238850\n",
       "min_to_subway           -22.612945\n",
       "floor                    49.073079\n",
       "building_age_yrs         -1.477977\n",
       "no_fee                 -343.001863\n",
       "has_roofdeck             -6.841426\n",
       "has_washer_dryer        187.474859\n",
       "has_doorman             -43.305667\n",
       "has_elevator            401.078711\n",
       "has_dishwasher          144.221178\n",
       "has_gym                 -97.496869"
      ]
     },
     "execution_count": 28,
     "metadata": {},
     "output_type": "execute_result"
    }
   ],
   "source": [
    "# The coefficients\n",
    "pd.DataFrame(lm.coef_, index=dependent_vars,  columns = ['Est. Coefficient'])"
   ]
  },
  {
   "cell_type": "markdown",
   "metadata": {},
   "source": [
    "Now i can predict rent prices using lm.predict"
   ]
  },
  {
   "cell_type": "code",
   "execution_count": 29,
   "metadata": {},
   "outputs": [
    {
     "data": {
      "text/plain": [
       "array([ 2621.28204089,  6477.19123116,  3710.37190376,  5981.8101549 ,\n",
       "        3755.44342157,  6672.10476024,  3073.95178035,  6992.40170342])"
      ]
     },
     "execution_count": 29,
     "metadata": {},
     "output_type": "execute_result"
    }
   ],
   "source": [
    "# first 8 predicted prices\n",
    "lm.predict(X)[0:8]"
   ]
  },
  {
   "cell_type": "code",
   "execution_count": 30,
   "metadata": {},
   "outputs": [
    {
     "data": {
      "image/png": "[encoded data removed]",
      "text/plain": [
       "<Figure size 432x288 with 1 Axes>"
      ]
     },
     "metadata": {},
     "output_type": "display_data"
    }
   ],
   "source": [
    "_ = plt.hist(lm.predict(X), bins=50)\n",
    "_ = plt.title('Predicted Rents (fitted values)')\n",
    "_ = plt.xlabel('Monthly Rent')\n",
    "_ = plt.ylabel('Frequency')\n"
   ]
  },
  {
   "cell_type": "code",
   "execution_count": null,
   "metadata": {},
   "outputs": [],
   "source": []
  },
  {
   "cell_type": "markdown",
   "metadata": {},
   "source": [
    "Let's plot the true prices compared to the predicted prices to see how they disagree."
   ]
  },
  {
   "cell_type": "code",
   "execution_count": 31,
   "metadata": {},
   "outputs": [
    {
     "data": {
      "image/png": "[encoded data removed]",
      "text/plain": [
       "<Figure size 432x288 with 1 Axes>"
      ]
     },
     "metadata": {},
     "output_type": "display_data"
    }
   ],
   "source": [
    "_ = plt.scatter(raw_df['rent'], lm.predict(X))\n",
    "_ = plt.xlabel(\"Rents\")\n",
    "_ = plt.ylabel(\"Predicted rents\")\n",
    "_ = plt.title(\"Rents vs Predicted Rents\")\n",
    "_ = plt.plot([0, 20000], [0, 20000], linewidth=4, color='red')"
   ]
  },
  {
   "cell_type": "markdown",
   "metadata": {},
   "source": [
    "It is not the best model but it is decent. It has some under performance when the rental prices increaces. This is likely because there are not too many in that range. However, for the lower rent prices model is quite reliable."
   ]
  },
  {
   "cell_type": "markdown",
   "metadata": {},
   "source": [
    "### Conclusion:\n",
    "Both statsmodels and sklearn modules produces satisfying results. \n",
    "However, for more complex datasets I would use sklearn as it gives a little more flexibility around accessing and using the output, and also plays nice with modeling options beyond linear regression.\n",
    "\n",
    "Things to work on: use feature engineering and apply model on data based on different boroughs."
   ]
  },
  {
   "cell_type": "markdown",
   "metadata": {},
   "source": [
    "### Using sklearn on datasets splitted by borough"
   ]
  },
  {
   "cell_type": "code",
   "execution_count": 58,
   "metadata": {},
   "outputs": [
    {
     "name": "stdout",
     "output_type": "stream",
     "text": [
      "borough                     Brooklyn     Manhattan        Queens\n",
      "bathrooms        count  1.013000e+03  3.539000e+03  4.480000e+02\n",
      "                 mean   1.234946e+00  1.366770e+00  1.160714e+00\n",
      "                 std    4.747403e-01  5.995882e-01  4.025327e-01\n",
      "                 min    0.000000e+00  0.000000e+00  0.000000e+00\n",
      "                 25%    1.000000e+00  1.000000e+00  1.000000e+00\n",
      "                 50%    1.000000e+00  1.000000e+00  1.000000e+00\n",
      "                 75%    1.000000e+00  2.000000e+00  1.000000e+00\n",
      "                 max    4.000000e+00  5.000000e+00  3.000000e+00\n",
      "bedrooms         count  1.013000e+03  3.539000e+03  4.480000e+02\n",
      "                 mean   1.578973e+00  1.351936e+00  1.327009e+00\n",
      "                 std    9.735545e-01  9.675945e-01  8.224251e-01\n",
      "                 min    0.000000e+00  0.000000e+00  0.000000e+00\n",
      "                 25%    1.000000e+00  1.000000e+00  1.000000e+00\n",
      "                 50%    2.000000e+00  1.000000e+00  1.000000e+00\n",
      "                 75%    2.000000e+00  2.000000e+00  2.000000e+00\n",
      "                 max    5.000000e+00  5.000000e+00  4.000000e+00\n",
      "building_age_yrs count  1.013000e+03  3.539000e+03  4.480000e+02\n",
      "                 mean   5.573050e+01  5.199491e+01  4.464509e+01\n",
      "                 std    4.433054e+01  3.938043e+01  3.585237e+01\n",
      "                 min    0.000000e+00  0.000000e+00  0.000000e+00\n",
      "                 25%    7.000000e+00  1.500000e+01  7.000000e+00\n",
      "                 50%    7.700000e+01  3.900000e+01  5.350000e+01\n",
      "                 75%    9.600000e+01  9.000000e+01  8.500000e+01\n",
      "                 max    1.740000e+02  1.800000e+02  1.260000e+02\n",
      "building_id      count  1.013000e+03  3.539000e+03  4.480000e+02\n",
      "                 mean   5.181835e+07  5.112440e+07  5.062302e+07\n",
      "                 std    2.929394e+07  2.758053e+07  2.858779e+07\n",
      "                 min    9.724300e+04  7.107000e+03  3.172930e+05\n",
      "                 25%    2.539545e+07  2.758046e+07  2.421868e+07\n",
      "                 50%    5.306764e+07  5.033462e+07  5.190623e+07\n",
      "...                              ...           ...           ...\n",
      "rent             std    1.602395e+03  3.162825e+03  8.546124e+02\n",
      "                 min    1.275000e+03  1.300000e+03  1.250000e+03\n",
      "                 25%    2.400000e+03  3.150000e+03  1.900000e+03\n",
      "                 50%    3.000000e+03  4.000000e+03  2.350000e+03\n",
      "                 75%    3.850000e+03  6.000000e+03  2.950000e+03\n",
      "                 max    1.800000e+04  2.000000e+04  8.000000e+03\n",
      "rent_predicted   count  1.013000e+03  3.539000e+03  4.480000e+02\n",
      "                 mean   1.749694e+04  2.724957e+04  1.312943e+04\n",
      "                 std    8.626696e+03  1.702747e+04  4.600913e+03\n",
      "                 min    6.447562e+03  6.582153e+03  6.312971e+03\n",
      "                 25%    1.250414e+04  1.654186e+04  9.812328e+03\n",
      "                 50%    1.573432e+04  2.111794e+04  1.223496e+04\n",
      "                 75%    2.031040e+04  3.188519e+04  1.546514e+04\n",
      "                 max    9.648870e+04  1.072560e+05  4.265245e+04\n",
      "rent_residual    count  1.013000e+03  3.539000e+03  4.480000e+02\n",
      "                 mean   1.416953e+04  2.211063e+04  1.061329e+04\n",
      "                 std    7.024301e+03  1.386464e+04  3.746301e+03\n",
      "                 min    5.172562e+03  5.282153e+03  5.062971e+03\n",
      "                 25%    1.010414e+04  1.339186e+04  7.912328e+03\n",
      "                 50%    1.273432e+04  1.711794e+04  9.884960e+03\n",
      "                 75%    1.646040e+04  2.588519e+04  1.251514e+04\n",
      "                 max    7.848870e+04  8.725596e+04  3.465245e+04\n",
      "size_sqft        count  1.013000e+03  3.539000e+03  4.480000e+02\n",
      "                 mean   8.994146e+02  9.397273e+02  8.118415e+02\n",
      "                 std    3.550945e+02  4.779491e+02  2.393680e+02\n",
      "                 min    2.500000e+02  2.500000e+02  3.400000e+02\n",
      "                 25%    6.800000e+02  6.130000e+02  6.500000e+02\n",
      "                 50%    8.450000e+02  8.000000e+02  7.870000e+02\n",
      "                 75%    1.000000e+03  1.141000e+03  9.652500e+02\n",
      "                 max    3.243000e+03  4.800000e+03  2.000000e+03\n",
      "\n",
      "[152 rows x 3 columns]\n"
     ]
    }
   ],
   "source": [
    "df_by_borough = raw_df.groupby(\"borough\").describe().head().transpose()\n",
    "print(df_by_borough)"
   ]
  },
  {
   "cell_type": "markdown",
   "metadata": {},
   "source": [
    "There are three main boroughs in the dataset. Let's split our data by borough and apply linear regression model on them separetly"
   ]
  },
  {
   "cell_type": "code",
   "execution_count": 56,
   "metadata": {},
   "outputs": [],
   "source": [
    "manhattan = raw_df.loc[raw_df['borough'] == \"Manhattan\"]\n",
    "brooklyn = raw_df.loc[raw_df['borough'] == \"Brooklyn\"]\n",
    "queens = raw_df.loc[raw_df['borough'] == 'Queens']"
   ]
  },
  {
   "cell_type": "code",
   "execution_count": 87,
   "metadata": {},
   "outputs": [
    {
     "data": {
      "text/plain": [
       "LinearRegression(copy_X=True, fit_intercept=True, n_jobs=1, normalize=False)"
      ]
     },
     "execution_count": 87,
     "metadata": {},
     "output_type": "execute_result"
    }
   ],
   "source": [
    "X = manhattan[dependent_vars]\n",
    "\n",
    "lm.fit(X, manhattan.rent)"
   ]
  },
  {
   "cell_type": "code",
   "execution_count": 88,
   "metadata": {},
   "outputs": [
    {
     "name": "stdout",
     "output_type": "stream",
     "text": [
      "Estimated intercept coefficient: -37.0856285347\n",
      "Number of coefficients: 12\n"
     ]
    },
    {
     "data": {
      "text/html": [
       "<div>\n",
       "<style scoped>\n",
       "    .dataframe tbody tr th:only-of-type {\n",
       "        vertical-align: middle;\n",
       "    }\n",
       "\n",
       "    .dataframe tbody tr th {\n",
       "        vertical-align: top;\n",
       "    }\n",
       "\n",
       "    .dataframe thead th {\n",
       "        text-align: right;\n",
       "    }\n",
       "</style>\n",
       "<table border=\"1\" class=\"dataframe\">\n",
       "  <thead>\n",
       "    <tr style=\"text-align: right;\">\n",
       "      <th></th>\n",
       "      <th>Est. Coefficient</th>\n",
       "    </tr>\n",
       "  </thead>\n",
       "  <tbody>\n",
       "    <tr>\n",
       "      <th>bedrooms</th>\n",
       "      <td>628.635588</td>\n",
       "    </tr>\n",
       "    <tr>\n",
       "      <th>bathrooms</th>\n",
       "      <td>3216.156571</td>\n",
       "    </tr>\n",
       "    <tr>\n",
       "      <th>min_to_subway</th>\n",
       "      <td>-27.144386</td>\n",
       "    </tr>\n",
       "    <tr>\n",
       "      <th>floor</th>\n",
       "      <td>34.489999</td>\n",
       "    </tr>\n",
       "    <tr>\n",
       "      <th>building_age_yrs</th>\n",
       "      <td>-4.265318</td>\n",
       "    </tr>\n",
       "    <tr>\n",
       "      <th>no_fee</th>\n",
       "      <td>-408.178771</td>\n",
       "    </tr>\n",
       "    <tr>\n",
       "      <th>has_roofdeck</th>\n",
       "      <td>-18.625488</td>\n",
       "    </tr>\n",
       "    <tr>\n",
       "      <th>has_washer_dryer</th>\n",
       "      <td>184.857666</td>\n",
       "    </tr>\n",
       "    <tr>\n",
       "      <th>has_doorman</th>\n",
       "      <td>-200.663579</td>\n",
       "    </tr>\n",
       "    <tr>\n",
       "      <th>has_elevator</th>\n",
       "      <td>223.670172</td>\n",
       "    </tr>\n",
       "    <tr>\n",
       "      <th>has_dishwasher</th>\n",
       "      <td>79.166384</td>\n",
       "    </tr>\n",
       "    <tr>\n",
       "      <th>has_gym</th>\n",
       "      <td>-56.240034</td>\n",
       "    </tr>\n",
       "  </tbody>\n",
       "</table>\n",
       "</div>"
      ],
      "text/plain": [
       "                  Est. Coefficient\n",
       "bedrooms                628.635588\n",
       "bathrooms              3216.156571\n",
       "min_to_subway           -27.144386\n",
       "floor                    34.489999\n",
       "building_age_yrs         -4.265318\n",
       "no_fee                 -408.178771\n",
       "has_roofdeck            -18.625488\n",
       "has_washer_dryer        184.857666\n",
       "has_doorman            -200.663579\n",
       "has_elevator            223.670172\n",
       "has_dishwasher           79.166384\n",
       "has_gym                 -56.240034"
      ]
     },
     "execution_count": 88,
     "metadata": {},
     "output_type": "execute_result"
    }
   ],
   "source": [
    "print('Estimated intercept coefficient:', lm.intercept_)\n",
    "print('Number of coefficients:', len(lm.coef_))\n",
    "# The coefficients\n",
    "pd.DataFrame(lm.coef_, index=dependent_vars,  columns = ['Est. Coefficient'])"
   ]
  },
  {
   "cell_type": "code",
   "execution_count": 89,
   "metadata": {},
   "outputs": [
    {
     "data": {
      "image/png": "[encoded data removed]",
      "text/plain": [
       "<Figure size 432x288 with 1 Axes>"
      ]
     },
     "metadata": {},
     "output_type": "display_data"
    }
   ],
   "source": [
    "_ = plt.hist(lm.predict(X), bins=50)\n",
    "_ = plt.title('Predicted Rents (fitted values)')\n",
    "_ = plt.xlabel('Monthly Rent')\n",
    "_ = plt.ylabel('Frequency')\n"
   ]
  },
  {
   "cell_type": "code",
   "execution_count": 90,
   "metadata": {},
   "outputs": [
    {
     "data": {
      "image/png": "[encoded data removed]",
      "text/plain": [
       "<Figure size 432x288 with 1 Axes>"
      ]
     },
     "metadata": {},
     "output_type": "display_data"
    }
   ],
   "source": [
    "_ = plt.scatter(manhattan['rent'], lm.predict(X))\n",
    "_ = plt.xlabel(\"Rents\")\n",
    "_ = plt.ylabel(\"Predicted rents\")\n",
    "_ = plt.title(\"Rents vs Predicted Rents\")\n",
    "_ = plt.plot([0, 20000], [0, 20000], linewidth=4, color='red')"
   ]
  },
  {
   "cell_type": "markdown",
   "metadata": {},
   "source": [
    "Using Manhattan data only produces results almoust identical to our original dataset"
   ]
  },
  {
   "cell_type": "code",
   "execution_count": 91,
   "metadata": {},
   "outputs": [
    {
     "data": {
      "text/plain": [
       "LinearRegression(copy_X=True, fit_intercept=True, n_jobs=1, normalize=False)"
      ]
     },
     "execution_count": 91,
     "metadata": {},
     "output_type": "execute_result"
    }
   ],
   "source": [
    "X = queens[dependent_vars]\n",
    "\n",
    "lm.fit(X, queens.rent)"
   ]
  },
  {
   "cell_type": "code",
   "execution_count": 92,
   "metadata": {},
   "outputs": [
    {
     "name": "stdout",
     "output_type": "stream",
     "text": [
      "Estimated intercept coefficient: 1369.83443014\n",
      "Number of coefficients: 12\n"
     ]
    },
    {
     "data": {
      "text/html": [
       "<div>\n",
       "<style scoped>\n",
       "    .dataframe tbody tr th:only-of-type {\n",
       "        vertical-align: middle;\n",
       "    }\n",
       "\n",
       "    .dataframe tbody tr th {\n",
       "        vertical-align: top;\n",
       "    }\n",
       "\n",
       "    .dataframe thead th {\n",
       "        text-align: right;\n",
       "    }\n",
       "</style>\n",
       "<table border=\"1\" class=\"dataframe\">\n",
       "  <thead>\n",
       "    <tr style=\"text-align: right;\">\n",
       "      <th></th>\n",
       "      <th>Est. Coefficient</th>\n",
       "    </tr>\n",
       "  </thead>\n",
       "  <tbody>\n",
       "    <tr>\n",
       "      <th>bedrooms</th>\n",
       "      <td>437.616599</td>\n",
       "    </tr>\n",
       "    <tr>\n",
       "      <th>bathrooms</th>\n",
       "      <td>580.610584</td>\n",
       "    </tr>\n",
       "    <tr>\n",
       "      <th>min_to_subway</th>\n",
       "      <td>-12.077830</td>\n",
       "    </tr>\n",
       "    <tr>\n",
       "      <th>floor</th>\n",
       "      <td>32.142364</td>\n",
       "    </tr>\n",
       "    <tr>\n",
       "      <th>building_age_yrs</th>\n",
       "      <td>-7.660600</td>\n",
       "    </tr>\n",
       "    <tr>\n",
       "      <th>no_fee</th>\n",
       "      <td>234.867971</td>\n",
       "    </tr>\n",
       "    <tr>\n",
       "      <th>has_roofdeck</th>\n",
       "      <td>53.853224</td>\n",
       "    </tr>\n",
       "    <tr>\n",
       "      <th>has_washer_dryer</th>\n",
       "      <td>127.596639</td>\n",
       "    </tr>\n",
       "    <tr>\n",
       "      <th>has_doorman</th>\n",
       "      <td>-10.879861</td>\n",
       "    </tr>\n",
       "    <tr>\n",
       "      <th>has_elevator</th>\n",
       "      <td>387.111147</td>\n",
       "    </tr>\n",
       "    <tr>\n",
       "      <th>has_dishwasher</th>\n",
       "      <td>-162.136443</td>\n",
       "    </tr>\n",
       "    <tr>\n",
       "      <th>has_gym</th>\n",
       "      <td>30.795020</td>\n",
       "    </tr>\n",
       "  </tbody>\n",
       "</table>\n",
       "</div>"
      ],
      "text/plain": [
       "                  Est. Coefficient\n",
       "bedrooms                437.616599\n",
       "bathrooms               580.610584\n",
       "min_to_subway           -12.077830\n",
       "floor                    32.142364\n",
       "building_age_yrs         -7.660600\n",
       "no_fee                  234.867971\n",
       "has_roofdeck             53.853224\n",
       "has_washer_dryer        127.596639\n",
       "has_doorman             -10.879861\n",
       "has_elevator            387.111147\n",
       "has_dishwasher         -162.136443\n",
       "has_gym                  30.795020"
      ]
     },
     "execution_count": 92,
     "metadata": {},
     "output_type": "execute_result"
    }
   ],
   "source": [
    "print('Estimated intercept coefficient:', lm.intercept_)\n",
    "print('Number of coefficients:', len(lm.coef_))\n",
    "# The coefficients\n",
    "pd.DataFrame(lm.coef_, index=dependent_vars,  columns = ['Est. Coefficient'])"
   ]
  },
  {
   "cell_type": "code",
   "execution_count": 93,
   "metadata": {},
   "outputs": [
    {
     "data": {
      "image/png": "[encoded data removed]",
      "text/plain": [
       "<Figure size 432x288 with 1 Axes>"
      ]
     },
     "metadata": {},
     "output_type": "display_data"
    }
   ],
   "source": [
    "_ = plt.hist(lm.predict(X), bins=50)\n",
    "_ = plt.title('Predicted Rents (fitted values)')\n",
    "_ = plt.xlabel('Monthly Rent')\n",
    "_ = plt.ylabel('Frequency')\n"
   ]
  },
  {
   "cell_type": "code",
   "execution_count": 94,
   "metadata": {},
   "outputs": [
    {
     "data": {
      "image/png": "[encoded data removed]",
      "text/plain": [
       "<Figure size 432x288 with 1 Axes>"
      ]
     },
     "metadata": {},
     "output_type": "display_data"
    }
   ],
   "source": [
    "_ = plt.scatter(queens['rent'], lm.predict(X))\n",
    "_ = plt.xlabel(\"Rents\")\n",
    "_ = plt.ylabel(\"Predicted rents\")\n",
    "_ = plt.title(\"Rents vs Predicted Rents\")\n",
    "_ = plt.plot([0, 20000], [0, 20000], linewidth=4, color='red')"
   ]
  },
  {
   "cell_type": "code",
   "execution_count": null,
   "metadata": {},
   "outputs": [],
   "source": []
  },
  {
   "cell_type": "code",
   "execution_count": 95,
   "metadata": {},
   "outputs": [
    {
     "data": {
      "text/plain": [
       "LinearRegression(copy_X=True, fit_intercept=True, n_jobs=1, normalize=False)"
      ]
     },
     "execution_count": 95,
     "metadata": {},
     "output_type": "execute_result"
    }
   ],
   "source": [
    "X = brooklyn[dependent_vars]\n",
    "\n",
    "lm.fit(X, brooklyn.rent)"
   ]
  },
  {
   "cell_type": "code",
   "execution_count": 96,
   "metadata": {},
   "outputs": [
    {
     "name": "stdout",
     "output_type": "stream",
     "text": [
      "Estimated intercept coefficient: 762.755050346\n",
      "Number of coefficients: 12\n"
     ]
    },
    {
     "data": {
      "text/html": [
       "<div>\n",
       "<style scoped>\n",
       "    .dataframe tbody tr th:only-of-type {\n",
       "        vertical-align: middle;\n",
       "    }\n",
       "\n",
       "    .dataframe tbody tr th {\n",
       "        vertical-align: top;\n",
       "    }\n",
       "\n",
       "    .dataframe thead th {\n",
       "        text-align: right;\n",
       "    }\n",
       "</style>\n",
       "<table border=\"1\" class=\"dataframe\">\n",
       "  <thead>\n",
       "    <tr style=\"text-align: right;\">\n",
       "      <th></th>\n",
       "      <th>Est. Coefficient</th>\n",
       "    </tr>\n",
       "  </thead>\n",
       "  <tbody>\n",
       "    <tr>\n",
       "      <th>bedrooms</th>\n",
       "      <td>350.775290</td>\n",
       "    </tr>\n",
       "    <tr>\n",
       "      <th>bathrooms</th>\n",
       "      <td>1677.238667</td>\n",
       "    </tr>\n",
       "    <tr>\n",
       "      <th>min_to_subway</th>\n",
       "      <td>-21.473965</td>\n",
       "    </tr>\n",
       "    <tr>\n",
       "      <th>floor</th>\n",
       "      <td>18.783333</td>\n",
       "    </tr>\n",
       "    <tr>\n",
       "      <th>building_age_yrs</th>\n",
       "      <td>-2.285364</td>\n",
       "    </tr>\n",
       "    <tr>\n",
       "      <th>no_fee</th>\n",
       "      <td>-21.627490</td>\n",
       "    </tr>\n",
       "    <tr>\n",
       "      <th>has_roofdeck</th>\n",
       "      <td>126.895079</td>\n",
       "    </tr>\n",
       "    <tr>\n",
       "      <th>has_washer_dryer</th>\n",
       "      <td>-26.364231</td>\n",
       "    </tr>\n",
       "    <tr>\n",
       "      <th>has_doorman</th>\n",
       "      <td>-111.405951</td>\n",
       "    </tr>\n",
       "    <tr>\n",
       "      <th>has_elevator</th>\n",
       "      <td>273.018973</td>\n",
       "    </tr>\n",
       "    <tr>\n",
       "      <th>has_dishwasher</th>\n",
       "      <td>84.129774</td>\n",
       "    </tr>\n",
       "    <tr>\n",
       "      <th>has_gym</th>\n",
       "      <td>362.194764</td>\n",
       "    </tr>\n",
       "  </tbody>\n",
       "</table>\n",
       "</div>"
      ],
      "text/plain": [
       "                  Est. Coefficient\n",
       "bedrooms                350.775290\n",
       "bathrooms              1677.238667\n",
       "min_to_subway           -21.473965\n",
       "floor                    18.783333\n",
       "building_age_yrs         -2.285364\n",
       "no_fee                  -21.627490\n",
       "has_roofdeck            126.895079\n",
       "has_washer_dryer        -26.364231\n",
       "has_doorman            -111.405951\n",
       "has_elevator            273.018973\n",
       "has_dishwasher           84.129774\n",
       "has_gym                 362.194764"
      ]
     },
     "execution_count": 96,
     "metadata": {},
     "output_type": "execute_result"
    }
   ],
   "source": [
    "print('Estimated intercept coefficient:', lm.intercept_)\n",
    "print('Number of coefficients:', len(lm.coef_))\n",
    "# The coefficients\n",
    "pd.DataFrame(lm.coef_, index=dependent_vars,  columns = ['Est. Coefficient'])"
   ]
  },
  {
   "cell_type": "code",
   "execution_count": 97,
   "metadata": {},
   "outputs": [
    {
     "data": {
      "image/png": "[encoded data removed]",
      "text/plain": [
       "<Figure size 432x288 with 1 Axes>"
      ]
     },
     "metadata": {},
     "output_type": "display_data"
    }
   ],
   "source": [
    "_ = plt.hist(lm.predict(X), bins=50)\n",
    "_ = plt.title('Predicted Rents (fitted values)')\n",
    "_ = plt.xlabel('Monthly Rent')\n",
    "_ = plt.ylabel('Frequency')\n"
   ]
  },
  {
   "cell_type": "code",
   "execution_count": 99,
   "metadata": {},
   "outputs": [
    {
     "data": {
      "image/png": "[encoded data removed]",
      "text/plain": [
       "<Figure size 432x288 with 1 Axes>"
      ]
     },
     "metadata": {},
     "output_type": "display_data"
    }
   ],
   "source": [
    "_ = plt.scatter(brooklyn['rent'], lm.predict(X))\n",
    "_ = plt.xlabel(\"Rents\")\n",
    "_ = plt.ylabel(\"Predicted rents\")\n",
    "_ = plt.title(\"Rents vs Predicted Rents\")\n",
    "_ = plt.plot([0, 20000], [0, 20000], linewidth=4, color='red')"
   ]
  },
  {
   "cell_type": "markdown",
   "metadata": {},
   "source": [
    "### Final Conclusion:\n",
    "Indeed, using feature engineering helped me to produce more accurate results for each borough. The main reason for that is due to diffrent price ranges acroos different boroughs. Our model is much more reliable for Queens and Brooklyn broughs. There are less outliers. However, there is less amount of data as well."
   ]
  },
  {
   "cell_type": "code",
   "execution_count": null,
   "metadata": {},
   "outputs": [],
   "source": []
  }
 ],
 "metadata": {
  "kernelspec": {
   "display_name": "Python 3",
   "language": "python",
   "name": "python3"
  },
  "language_info": {
   "codemirror_mode": {
    "name": "ipython",
    "version": 3
   },
   "file_extension": ".py",
   "mimetype": "text/x-python",
   "name": "python",
   "nbconvert_exporter": "python",
   "pygments_lexer": "ipython3",
   "version": "3.6.5"
  }
 },
 "nbformat": 4,
 "nbformat_minor": 2
}
